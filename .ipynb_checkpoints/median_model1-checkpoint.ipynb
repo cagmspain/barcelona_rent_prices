{
 "cells": [
  {
   "cell_type": "code",
   "execution_count": 1,
   "metadata": {},
   "outputs": [],
   "source": [
    "import warnings\n",
    "warnings.filterwarnings('ignore', category=FutureWarning)\n",
    "import pandas as pd \n",
    "import seaborn as sns\n",
    "import matplotlib.pyplot as plt\n",
    "from scipy import stats\n",
    "import numpy as np\n",
    "from sklearn.model_selection import train_test_split\n",
    "from sklearn.preprocessing import MinMaxScaler\n",
    "from sklearn.metrics import mean_absolute_error, mean_squared_error, r2_score\n",
    "from sklearn.linear_model import Ridge\n"
   ]
  },
  {
   "cell_type": "markdown",
   "metadata": {},
   "source": [
    "## Carga de dataset"
   ]
  },
  {
   "cell_type": "code",
   "execution_count": 2,
   "metadata": {},
   "outputs": [],
   "source": [
    "data = pd.read_csv(\"./Barcelona_rent_price.csv\", delimiter=';')"
   ]
  },
  {
   "cell_type": "markdown",
   "metadata": {},
   "source": [
    "\n",
    "### Análisis Exploratorio de Datos (EDA)\n",
    "\n",
    "i. Tipo de dato\n",
    "Primero, verificamos los tipos de datos y su clasificación en el DataFrame:"
   ]
  },
  {
   "cell_type": "code",
   "execution_count": 3,
   "metadata": {},
   "outputs": [
    {
     "name": "stdout",
     "output_type": "stream",
     "text": [
      "<class 'pandas.core.frame.DataFrame'>\n",
      "RangeIndex: 2311 entries, 0 to 2310\n",
      "Data columns (total 6 columns):\n",
      " #   Column              Non-Null Count  Dtype  \n",
      "---  ------              --------------  -----  \n",
      " 0   Year                2311 non-null   int64  \n",
      " 1   Trimester           2311 non-null   int64  \n",
      " 2   District            2311 non-null   object \n",
      " 3   Neighbourhood       2311 non-null   object \n",
      " 4   Price (euro/month)  2311 non-null   float64\n",
      " 5   Price (euro/m2)     2311 non-null   float64\n",
      "dtypes: float64(2), int64(2), object(2)\n",
      "memory usage: 108.5+ KB\n"
     ]
    }
   ],
   "source": [
    "data.info()"
   ]
  },
  {
   "cell_type": "markdown",
   "metadata": {},
   "source": [
    "ii. Estadística descriptiva\n",
    "Calculamos las estadísticas descriptivas para resumir la tendencia central, dispersión y forma de la distribución de los datos:"
   ]
  },
  {
   "cell_type": "code",
   "execution_count": 4,
   "metadata": {},
   "outputs": [
    {
     "data": {
      "text/html": [
       "<div>\n",
       "<style scoped>\n",
       "    .dataframe tbody tr th:only-of-type {\n",
       "        vertical-align: middle;\n",
       "    }\n",
       "\n",
       "    .dataframe tbody tr th {\n",
       "        vertical-align: top;\n",
       "    }\n",
       "\n",
       "    .dataframe thead th {\n",
       "        text-align: right;\n",
       "    }\n",
       "</style>\n",
       "<table border=\"1\" class=\"dataframe\">\n",
       "  <thead>\n",
       "    <tr style=\"text-align: right;\">\n",
       "      <th></th>\n",
       "      <th>Year</th>\n",
       "      <th>Trimester</th>\n",
       "      <th>Price (euro/month)</th>\n",
       "      <th>Price (euro/m2)</th>\n",
       "    </tr>\n",
       "  </thead>\n",
       "  <tbody>\n",
       "    <tr>\n",
       "      <th>count</th>\n",
       "      <td>2311.000000</td>\n",
       "      <td>2311.000000</td>\n",
       "      <td>2311.000000</td>\n",
       "      <td>2311.000000</td>\n",
       "    </tr>\n",
       "    <tr>\n",
       "      <th>mean</th>\n",
       "      <td>2017.745565</td>\n",
       "      <td>2.440502</td>\n",
       "      <td>820.780658</td>\n",
       "      <td>12.134531</td>\n",
       "    </tr>\n",
       "    <tr>\n",
       "      <th>std</th>\n",
       "      <td>2.463095</td>\n",
       "      <td>1.116498</td>\n",
       "      <td>255.450568</td>\n",
       "      <td>2.419414</td>\n",
       "    </tr>\n",
       "    <tr>\n",
       "      <th>min</th>\n",
       "      <td>2014.000000</td>\n",
       "      <td>1.000000</td>\n",
       "      <td>142.340000</td>\n",
       "      <td>3.180000</td>\n",
       "    </tr>\n",
       "    <tr>\n",
       "      <th>25%</th>\n",
       "      <td>2016.000000</td>\n",
       "      <td>1.000000</td>\n",
       "      <td>653.860000</td>\n",
       "      <td>10.500000</td>\n",
       "    </tr>\n",
       "    <tr>\n",
       "      <th>50%</th>\n",
       "      <td>2018.000000</td>\n",
       "      <td>2.000000</td>\n",
       "      <td>777.210000</td>\n",
       "      <td>12.100000</td>\n",
       "    </tr>\n",
       "    <tr>\n",
       "      <th>75%</th>\n",
       "      <td>2020.000000</td>\n",
       "      <td>3.000000</td>\n",
       "      <td>926.500000</td>\n",
       "      <td>13.750000</td>\n",
       "    </tr>\n",
       "    <tr>\n",
       "      <th>max</th>\n",
       "      <td>2022.000000</td>\n",
       "      <td>4.000000</td>\n",
       "      <td>2034.000000</td>\n",
       "      <td>21.300000</td>\n",
       "    </tr>\n",
       "  </tbody>\n",
       "</table>\n",
       "</div>"
      ],
      "text/plain": [
       "              Year    Trimester  Price (euro/month)  Price (euro/m2)\n",
       "count  2311.000000  2311.000000         2311.000000      2311.000000\n",
       "mean   2017.745565     2.440502          820.780658        12.134531\n",
       "std       2.463095     1.116498          255.450568         2.419414\n",
       "min    2014.000000     1.000000          142.340000         3.180000\n",
       "25%    2016.000000     1.000000          653.860000        10.500000\n",
       "50%    2018.000000     2.000000          777.210000        12.100000\n",
       "75%    2020.000000     3.000000          926.500000        13.750000\n",
       "max    2022.000000     4.000000         2034.000000        21.300000"
      ]
     },
     "execution_count": 4,
     "metadata": {},
     "output_type": "execute_result"
    }
   ],
   "source": [
    "data.describe()"
   ]
  },
  {
   "cell_type": "markdown",
   "metadata": {},
   "source": [
    "iii. Función de distribución\n",
    "Visualizamos la distribución de la variable objetivo \"Price (euro/m2)\" utilizando un histograma:"
   ]
  },
  {
   "cell_type": "code",
   "execution_count": 5,
   "metadata": {},
   "outputs": [
    {
     "data": {
      "image/png": "[encoded data removed]",
      "text/plain": [
       "<Figure size 640x480 with 1 Axes>"
      ]
     },
     "metadata": {},
     "output_type": "display_data"
    }
   ],
   "source": [
    "plt.hist(data['Price (euro/m2)'], bins=30, edgecolor='k')\n",
    "plt.title('Distribución de Price (euro/m2)')\n",
    "plt.xlabel('Price (euro/m2)')\n",
    "plt.ylabel('Frecuencia')\n",
    "plt.show()"
   ]
  },
  {
   "cell_type": "code",
   "execution_count": 6,
   "metadata": {},
   "outputs": [
    {
     "name": "stdout",
     "output_type": "stream",
     "text": [
      "Prueba de Kolmogorov-Smirnov\n",
      "Estadístico=0.020, p=0.323\n",
      "Distribución probablemente normal\n"
     ]
    }
   ],
   "source": [
    "\n",
    "\n",
    "# Prueba de Kolmogorov-Smirnov para 'Price (euro/m2)'\n",
    "d, p_value = stats.kstest(data['Price (euro/m2)'], 'norm', args=(data['Price (euro/m2)'].mean(), data['Price (euro/m2)'].std()))\n",
    "print('Prueba de Kolmogorov-Smirnov')\n",
    "print('Estadístico=%.3f, p=%.3f' % (d, p_value))\n",
    "if p_value > 0.05:\n",
    "    print('Distribución probablemente normal')\n",
    "else:\n",
    "    print('Distribución probablemente no normal')"
   ]
  },
  {
   "cell_type": "markdown",
   "metadata": {},
   "source": [
    "iv. Interpretar la variable objetivo en base a la función de distribución\n",
    "Creamos un boxplot para identificar visualmente la presencia de outliers en \"Price (euro/m2)\":"
   ]
  },
  {
   "cell_type": "code",
   "execution_count": 7,
   "metadata": {},
   "outputs": [
    {
     "data": {
      "image/png": "[encoded data removed]",
      "text/plain": [
       "<Figure size 640x480 with 1 Axes>"
      ]
     },
     "metadata": {},
     "output_type": "display_data"
    }
   ],
   "source": [
    "plt.boxplot(data['Price (euro/m2)'])\n",
    "plt.title('Boxplot de Price (euro/m2)')\n",
    "plt.ylabel('Price (euro/m2)')\n",
    "plt.show()"
   ]
  },
  {
   "cell_type": "markdown",
   "metadata": {},
   "source": [
    "Calidad del Dato\n",
    "Presencia de outliers\n",
    "Identificamos outliers utilizando el rango intercuartílico (IQR):"
   ]
  },
  {
   "cell_type": "code",
   "execution_count": 8,
   "metadata": {},
   "outputs": [],
   "source": [
    "Q1 = data['Price (euro/m2)'].quantile(0.25)\n",
    "Q3 = data['Price (euro/m2)'].quantile(0.75)\n",
    "IQR = Q3 - Q1\n",
    "\n",
    "lower_bound = Q1 - 1.5 * IQR\n",
    "upper_bound = Q3 + 1.5 * IQR"
   ]
  },
  {
   "cell_type": "markdown",
   "metadata": {},
   "source": [
    "Corrección o imputación de outliers\n",
    "Reemplazamos los outliers con la mediana para mantener la integridad de los datos:"
   ]
  },
  {
   "cell_type": "code",
   "execution_count": 9,
   "metadata": {},
   "outputs": [],
   "source": [
    "median_value = data['Price (euro/m2)'].median()\n",
    "data['Price (euro/m2)'] = data['Price (euro/m2)'].apply(lambda x: median_value if x < lower_bound or x > upper_bound else x)\n"
   ]
  },
  {
   "cell_type": "code",
   "execution_count": 10,
   "metadata": {},
   "outputs": [
    {
     "data": {
      "image/png": "[encoded data removed]",
      "text/plain": [
       "<Figure size 640x480 with 1 Axes>"
      ]
     },
     "metadata": {},
     "output_type": "display_data"
    }
   ],
   "source": [
    "plt.boxplot(data['Price (euro/m2)'])\n",
    "plt.title('Boxplot de Price (euro/m2) despues de tratar outliers')\n",
    "plt.ylabel('Price (euro/m2)')\n",
    "plt.show()"
   ]
  },
  {
   "cell_type": "code",
   "execution_count": 11,
   "metadata": {},
   "outputs": [
    {
     "data": {
      "image/png": "[encoded data removed]",
      "text/plain": [
       "<Figure size 640x480 with 1 Axes>"
      ]
     },
     "metadata": {},
     "output_type": "display_data"
    }
   ],
   "source": [
    "plt.hist(data['Price (euro/m2)'], bins=30, edgecolor='k')\n",
    "plt.title('Distribución de Price (euro/m2) después de tratar outliers')\n",
    "plt.xlabel('Price (euro/m2)')\n",
    "plt.ylabel('Frecuencia')\n",
    "plt.show()"
   ]
  },
  {
   "cell_type": "code",
   "execution_count": 12,
   "metadata": {},
   "outputs": [
    {
     "data": {
      "image/png": "[encoded data removed]",
      "text/plain": [
       "<Figure size 1000x600 with 1 Axes>"
      ]
     },
     "metadata": {},
     "output_type": "display_data"
    }
   ],
   "source": [
    "# Histograma y KDE\n",
    "plt.figure(figsize=(10, 6))\n",
    "sns.histplot(data['Price (euro/m2)'], kde=True)\n",
    "plt.title('Distribución del Precio (euro/m2)')\n",
    "plt.xlabel('Precio (euro/m2)')\n",
    "plt.ylabel('Frecuencia')\n",
    "plt.show()"
   ]
  },
  {
   "cell_type": "code",
   "execution_count": 13,
   "metadata": {},
   "outputs": [
    {
     "name": "stdout",
     "output_type": "stream",
     "text": [
      "Prueba de Shapiro-Wilk\n",
      "Estadístico=0.998, p=0.002\n",
      "Distribución probablemente no normal\n",
      "Prueba de Kolmogorov-Smirnov\n",
      "Estadístico=0.016, p=0.619\n",
      "Distribución probablemente normal\n"
     ]
    }
   ],
   "source": [
    "stat, p = stats.shapiro(data['Price (euro/m2)'])\n",
    "print('Prueba de Shapiro-Wilk')\n",
    "print('Estadístico=%.3f, p=%.3f' % (stat, p))\n",
    "if p > 0.05:\n",
    "    print('Distribución probablemente normal')\n",
    "else:\n",
    "    print('Distribución probablemente no normal')\n",
    "\n",
    "# Prueba de Kolmogorov-Smirnov para 'Price (euro/m2)'\n",
    "d, p_value = stats.kstest(data['Price (euro/m2)'], 'norm', args=(data['Price (euro/m2)'].mean(), data['Price (euro/m2)'].std()))\n",
    "print('Prueba de Kolmogorov-Smirnov')\n",
    "print('Estadístico=%.3f, p=%.3f' % (d, p_value))\n",
    "if p_value > 0.05:\n",
    "    print('Distribución probablemente normal')\n",
    "else:\n",
    "    print('Distribución probablemente no normal')"
   ]
  },
  {
   "cell_type": "markdown",
   "metadata": {},
   "source": [
    "LA DISTRIBUCIION NO ES NORMAL, Y FALLA LA NORMALIZACION CON METODO BOX-COX Y CON METODO NORMALIZACION LOGARITMICA,\n",
    "POR LO QUE SE SUGIERE LA ELECCION DE OTRO TIPO DE REGRESEION PARA ENTRENAMIENTO Y EVALUACION DE MODELO "
   ]
  },
  {
   "cell_type": "markdown",
   "metadata": {},
   "source": [
    "Selección de Variables Altamente Correladas\n",
    "Calculamos la matriz de correlación para identificar variables altamente correlacionadas con la variable objetivo:"
   ]
  },
  {
   "cell_type": "code",
   "execution_count": 14,
   "metadata": {},
   "outputs": [
    {
     "name": "stdout",
     "output_type": "stream",
     "text": [
      "Price (euro/m2)       1.000000\n",
      "Price (euro/month)    0.784603\n",
      "Year                  0.467137\n",
      "Trimester             0.053613\n",
      "Name: Price (euro/m2), dtype: float64\n"
     ]
    }
   ],
   "source": [
    "# Seleccionamos solo las columnas numéricas del DataFrame\n",
    "numeric_data = data.select_dtypes(include=['float64', 'int64'])\n",
    "\n",
    "# Calcular la matriz de correlación solo para las columnas numéricas\n",
    "correlation_matrix = numeric_data.corr()\n",
    "highly_correlated_vars = correlation_matrix['Price (euro/m2)'].sort_values(ascending=False)\n",
    "\n",
    "print(highly_correlated_vars)"
   ]
  },
  {
   "cell_type": "markdown",
   "metadata": {},
   "source": [
    "Binarización de Categóricas\n",
    "Convertimos las variables categóricas en variables binarias utilizando One-Hot Encoding:"
   ]
  },
  {
   "cell_type": "code",
   "execution_count": 15,
   "metadata": {},
   "outputs": [
    {
     "data": {
      "text/html": [
       "<div>\n",
       "<style scoped>\n",
       "    .dataframe tbody tr th:only-of-type {\n",
       "        vertical-align: middle;\n",
       "    }\n",
       "\n",
       "    .dataframe tbody tr th {\n",
       "        vertical-align: top;\n",
       "    }\n",
       "\n",
       "    .dataframe thead th {\n",
       "        text-align: right;\n",
       "    }\n",
       "</style>\n",
       "<table border=\"1\" class=\"dataframe\">\n",
       "  <thead>\n",
       "    <tr style=\"text-align: right;\">\n",
       "      <th></th>\n",
       "      <th>Year</th>\n",
       "      <th>Trimester</th>\n",
       "      <th>Price (euro/month)</th>\n",
       "      <th>Price (euro/m2)</th>\n",
       "      <th>District_Ciutat Vella</th>\n",
       "      <th>District_Eixample</th>\n",
       "      <th>District_Gracia</th>\n",
       "      <th>District_Horta-Guinardo</th>\n",
       "      <th>District_Les Corts</th>\n",
       "      <th>District_Nou Barris</th>\n",
       "      <th>...</th>\n",
       "      <th>Neighbourhood_la Teixonera</th>\n",
       "      <th>Neighbourhood_la Trinitat Nova</th>\n",
       "      <th>Neighbourhood_la Trinitat Vella</th>\n",
       "      <th>Neighbourhood_la Vall d'Hebron</th>\n",
       "      <th>Neighbourhood_la Verneda i la Pau</th>\n",
       "      <th>Neighbourhood_la Vila Olimpica del Poblenou</th>\n",
       "      <th>Neighbourhood_la Vila de Gracia</th>\n",
       "      <th>Neighbourhood_les Corts</th>\n",
       "      <th>Neighbourhood_les Roquetes</th>\n",
       "      <th>Neighbourhood_les Tres Torres</th>\n",
       "    </tr>\n",
       "  </thead>\n",
       "  <tbody>\n",
       "    <tr>\n",
       "      <th>0</th>\n",
       "      <td>2014</td>\n",
       "      <td>1</td>\n",
       "      <td>589.55</td>\n",
       "      <td>10.76</td>\n",
       "      <td>True</td>\n",
       "      <td>False</td>\n",
       "      <td>False</td>\n",
       "      <td>False</td>\n",
       "      <td>False</td>\n",
       "      <td>False</td>\n",
       "      <td>...</td>\n",
       "      <td>False</td>\n",
       "      <td>False</td>\n",
       "      <td>False</td>\n",
       "      <td>False</td>\n",
       "      <td>False</td>\n",
       "      <td>False</td>\n",
       "      <td>False</td>\n",
       "      <td>False</td>\n",
       "      <td>False</td>\n",
       "      <td>False</td>\n",
       "    </tr>\n",
       "    <tr>\n",
       "      <th>1</th>\n",
       "      <td>2014</td>\n",
       "      <td>1</td>\n",
       "      <td>712.79</td>\n",
       "      <td>10.58</td>\n",
       "      <td>True</td>\n",
       "      <td>False</td>\n",
       "      <td>False</td>\n",
       "      <td>False</td>\n",
       "      <td>False</td>\n",
       "      <td>False</td>\n",
       "      <td>...</td>\n",
       "      <td>False</td>\n",
       "      <td>False</td>\n",
       "      <td>False</td>\n",
       "      <td>False</td>\n",
       "      <td>False</td>\n",
       "      <td>False</td>\n",
       "      <td>False</td>\n",
       "      <td>False</td>\n",
       "      <td>False</td>\n",
       "      <td>False</td>\n",
       "    </tr>\n",
       "    <tr>\n",
       "      <th>2</th>\n",
       "      <td>2014</td>\n",
       "      <td>1</td>\n",
       "      <td>540.71</td>\n",
       "      <td>14.40</td>\n",
       "      <td>True</td>\n",
       "      <td>False</td>\n",
       "      <td>False</td>\n",
       "      <td>False</td>\n",
       "      <td>False</td>\n",
       "      <td>False</td>\n",
       "      <td>...</td>\n",
       "      <td>False</td>\n",
       "      <td>False</td>\n",
       "      <td>False</td>\n",
       "      <td>False</td>\n",
       "      <td>False</td>\n",
       "      <td>False</td>\n",
       "      <td>False</td>\n",
       "      <td>False</td>\n",
       "      <td>False</td>\n",
       "      <td>False</td>\n",
       "    </tr>\n",
       "    <tr>\n",
       "      <th>3</th>\n",
       "      <td>2014</td>\n",
       "      <td>1</td>\n",
       "      <td>673.44</td>\n",
       "      <td>11.01</td>\n",
       "      <td>True</td>\n",
       "      <td>False</td>\n",
       "      <td>False</td>\n",
       "      <td>False</td>\n",
       "      <td>False</td>\n",
       "      <td>False</td>\n",
       "      <td>...</td>\n",
       "      <td>False</td>\n",
       "      <td>False</td>\n",
       "      <td>False</td>\n",
       "      <td>False</td>\n",
       "      <td>False</td>\n",
       "      <td>False</td>\n",
       "      <td>False</td>\n",
       "      <td>False</td>\n",
       "      <td>False</td>\n",
       "      <td>False</td>\n",
       "    </tr>\n",
       "    <tr>\n",
       "      <th>4</th>\n",
       "      <td>2014</td>\n",
       "      <td>1</td>\n",
       "      <td>736.09</td>\n",
       "      <td>10.42</td>\n",
       "      <td>False</td>\n",
       "      <td>True</td>\n",
       "      <td>False</td>\n",
       "      <td>False</td>\n",
       "      <td>False</td>\n",
       "      <td>False</td>\n",
       "      <td>...</td>\n",
       "      <td>False</td>\n",
       "      <td>False</td>\n",
       "      <td>False</td>\n",
       "      <td>False</td>\n",
       "      <td>False</td>\n",
       "      <td>False</td>\n",
       "      <td>False</td>\n",
       "      <td>False</td>\n",
       "      <td>False</td>\n",
       "      <td>False</td>\n",
       "    </tr>\n",
       "  </tbody>\n",
       "</table>\n",
       "<p>5 rows × 89 columns</p>\n",
       "</div>"
      ],
      "text/plain": [
       "   Year  Trimester  Price (euro/month)  Price (euro/m2)  \\\n",
       "0  2014          1              589.55            10.76   \n",
       "1  2014          1              712.79            10.58   \n",
       "2  2014          1              540.71            14.40   \n",
       "3  2014          1              673.44            11.01   \n",
       "4  2014          1              736.09            10.42   \n",
       "\n",
       "   District_Ciutat Vella  District_Eixample  District_Gracia  \\\n",
       "0                   True              False            False   \n",
       "1                   True              False            False   \n",
       "2                   True              False            False   \n",
       "3                   True              False            False   \n",
       "4                  False               True            False   \n",
       "\n",
       "   District_Horta-Guinardo  District_Les Corts  District_Nou Barris  ...  \\\n",
       "0                    False               False                False  ...   \n",
       "1                    False               False                False  ...   \n",
       "2                    False               False                False  ...   \n",
       "3                    False               False                False  ...   \n",
       "4                    False               False                False  ...   \n",
       "\n",
       "   Neighbourhood_la Teixonera  Neighbourhood_la Trinitat Nova  \\\n",
       "0                       False                           False   \n",
       "1                       False                           False   \n",
       "2                       False                           False   \n",
       "3                       False                           False   \n",
       "4                       False                           False   \n",
       "\n",
       "   Neighbourhood_la Trinitat Vella  Neighbourhood_la Vall d'Hebron  \\\n",
       "0                            False                           False   \n",
       "1                            False                           False   \n",
       "2                            False                           False   \n",
       "3                            False                           False   \n",
       "4                            False                           False   \n",
       "\n",
       "   Neighbourhood_la Verneda i la Pau  \\\n",
       "0                              False   \n",
       "1                              False   \n",
       "2                              False   \n",
       "3                              False   \n",
       "4                              False   \n",
       "\n",
       "   Neighbourhood_la Vila Olimpica del Poblenou  \\\n",
       "0                                        False   \n",
       "1                                        False   \n",
       "2                                        False   \n",
       "3                                        False   \n",
       "4                                        False   \n",
       "\n",
       "   Neighbourhood_la Vila de Gracia  Neighbourhood_les Corts  \\\n",
       "0                            False                    False   \n",
       "1                            False                    False   \n",
       "2                            False                    False   \n",
       "3                            False                    False   \n",
       "4                            False                    False   \n",
       "\n",
       "   Neighbourhood_les Roquetes  Neighbourhood_les Tres Torres  \n",
       "0                       False                          False  \n",
       "1                       False                          False  \n",
       "2                       False                          False  \n",
       "3                       False                          False  \n",
       "4                       False                          False  \n",
       "\n",
       "[5 rows x 89 columns]"
      ]
     },
     "execution_count": 15,
     "metadata": {},
     "output_type": "execute_result"
    }
   ],
   "source": [
    "data_encoded = pd.get_dummies(data, columns=['District', 'Neighbourhood'])\n",
    "data_encoded.head()"
   ]
  },
  {
   "cell_type": "markdown",
   "metadata": {},
   "source": [
    "División Train Test\n",
    "Dividimos el conjunto de datos en conjuntos de entrenamiento y prueba:"
   ]
  },
  {
   "cell_type": "code",
   "execution_count": 16,
   "metadata": {},
   "outputs": [],
   "source": [
    "\n",
    "X = data_encoded.drop('Price (euro/m2)', axis=1)\n",
    "y = data_encoded['Price (euro/m2)']\n",
    "\n",
    "X_train, X_test, y_train, y_test = train_test_split(X, y, test_size=0.2, random_state=42)\n",
    "\n"
   ]
  },
  {
   "cell_type": "markdown",
   "metadata": {},
   "source": [
    "Transformación (Escalado)\n",
    "Escalamos los datos utilizando MinMaxScaler para que todas las características tengan el mismo rango:"
   ]
  },
  {
   "cell_type": "code",
   "execution_count": 17,
   "metadata": {},
   "outputs": [],
   "source": [
    "scaler = MinMaxScaler()\n",
    "X_train_scaled = scaler.fit_transform(X_train)\n",
    "X_test_scaled = scaler.transform(X_test)\n"
   ]
  },
  {
   "cell_type": "markdown",
   "metadata": {},
   "source": [
    "Modelo:\n",
    "Entrenamos un modelo de regresión RIDGE con los datos escalados:"
   ]
  },
  {
   "cell_type": "code",
   "execution_count": 18,
   "metadata": {},
   "outputs": [],
   "source": [
    "\n",
    "# Definir el modelo de regresión Ridge\n",
    "ridge_model = Ridge()\n",
    "# Entrenar y evaluar el modelo Ridge\n",
    "ridge_model.fit(X_train_scaled, y_train)\n",
    "y_pred_ridge = ridge_model.predict(X_test_scaled)"
   ]
  },
  {
   "cell_type": "markdown",
   "metadata": {},
   "source": [
    "Evaluación del Modelo\n",
    "Evaluamos el rendimiento del modelo utilizando MAE, MSE y R²:"
   ]
  },
  {
   "cell_type": "code",
   "execution_count": 19,
   "metadata": {},
   "outputs": [
    {
     "name": "stdout",
     "output_type": "stream",
     "text": [
      "MAE (Ridge): 0.607612448267257, MSE (Ridge): 0.7824533789149293, RMSE (Ridge): 0.8845639484598777, R² (Ridge): 0.847514968129041\n"
     ]
    }
   ],
   "source": [
    "\n",
    "mae_ridge = mean_absolute_error(y_test, y_pred_ridge)\n",
    "mse_ridge = mean_squared_error(y_test, y_pred_ridge)\n",
    "rmse_ridge = np.sqrt(mse_ridge)\n",
    "r2_ridge = r2_score(y_test, y_pred_ridge)\n",
    "print(f'MAE (Ridge): {mae_ridge}, MSE (Ridge): {mse_ridge}, RMSE (Ridge): {rmse_ridge}, R² (Ridge): {r2_ridge}')"
   ]
  },
  {
   "cell_type": "markdown",
   "metadata": {},
   "source": [
    "El modelo tiene un buen desempeño, con un alto valor de R² indicando que explica el 84.75% de la variabilidad de los datos."
   ]
  },
  {
   "cell_type": "markdown",
   "metadata": {},
   "source": [
    "6. Validación Cruzada Estratificada"
   ]
  },
  {
   "cell_type": "code",
   "execution_count": 20,
   "metadata": {},
   "outputs": [
    {
     "name": "stdout",
     "output_type": "stream",
     "text": [
      "Validación cruzada R² (Ridge): 0.8560940748870116, 0.01813650583547809\n"
     ]
    }
   ],
   "source": [
    "from sklearn.model_selection import KFold, cross_val_score\n",
    "\n",
    "# Validación cruzada con KFold\n",
    "kf = KFold(n_splits=5, shuffle=True, random_state=42)\n",
    "scores_ridge = cross_val_score(ridge_model, X_train_scaled, y_train, cv=kf, scoring='r2', n_jobs=-1)\n",
    "\n",
    "print(f'Validación cruzada R² (Ridge): {scores_ridge.mean()}, {scores_ridge.std()}')\n"
   ]
  },
  {
   "cell_type": "markdown",
   "metadata": {},
   "source": [
    "SE HA COMPROBADO LA VALIDACION DEL MODELO CON UN UN R2 DE 0.856 "
   ]
  },
  {
   "cell_type": "markdown",
   "metadata": {},
   "source": [
    "## Conclusiones : \n",
    "\n",
    "1. El modelo presenta un despues de la eleccion de modelos mas robustos a distribuciones probablemente no normales un desempeño R2 = 84.5% (menor que el modelo clusters kmeans)\n",
    "2. A pesar de los ajustes, las predicciones son alejadas de la realidad, por lo que se decide continuar con modelos con otro tipo de gestion de outliers "
   ]
  }
 ],
 "metadata": {
  "kernelspec": {
   "display_name": "base",
   "language": "python",
   "name": "python3"
  },
  "language_info": {
   "codemirror_mode": {
    "name": "ipython",
    "version": 3
   },
   "file_extension": ".py",
   "mimetype": "text/x-python",
   "name": "python",
   "nbconvert_exporter": "python",
   "pygments_lexer": "ipython3",
   "version": "3.11.7"
  }
 },
 "nbformat": 4,
 "nbformat_minor": 2
}
