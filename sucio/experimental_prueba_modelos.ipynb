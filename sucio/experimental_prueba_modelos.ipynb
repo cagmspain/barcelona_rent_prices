{
 "cells": [
  {
   "cell_type": "code",
   "execution_count": 1,
   "metadata": {},
   "outputs": [
    {
     "name": "stderr",
     "output_type": "stream",
     "text": [
      "/opt/anaconda3/lib/python3.11/site-packages/sklearn/cluster/_kmeans.py:870: FutureWarning: The default value of `n_init` will change from 10 to 'auto' in 1.4. Set the value of `n_init` explicitly to suppress the warning\n",
      "  warnings.warn(\n"
     ]
    }
   ],
   "source": [
    "import pandas as pd\n",
    "import numpy as np\n",
    "import matplotlib.pyplot as plt\n",
    "import seaborn as sns\n",
    "from sklearn.preprocessing import MinMaxScaler, PowerTransformer\n",
    "from sklearn.model_selection import train_test_split, cross_val_score, GridSearchCV\n",
    "from sklearn.linear_model import Ridge, Lasso, ElasticNet\n",
    "from sklearn.ensemble import RandomForestRegressor, VotingRegressor\n",
    "from sklearn.metrics import mean_absolute_error, mean_squared_error, r2_score\n",
    "from sklearn.cluster import KMeans\n",
    "from xgboost import XGBRegressor\n",
    "import scipy.stats as stats\n",
    "\n",
    "# Cargar los datos de entrenamiento\n",
    "data = pd.read_csv(\"./Barcelona_rent_price.csv\", delimiter=';')\n",
    "\n",
    "# Preprocesamiento de los datos de entrenamiento\n",
    "numeric_data = data.select_dtypes(include=['float64', 'int64'])\n",
    "scaler = MinMaxScaler()\n",
    "data_scaled = scaler.fit_transform(numeric_data)\n",
    "\n",
    "kmeans = KMeans(n_clusters=4, random_state=42)\n",
    "clusters = kmeans.fit_predict(data_scaled)\n",
    "data['Cluster'] = clusters\n",
    "data['Distance_to_Centroid'] = np.linalg.norm(data_scaled - kmeans.cluster_centers_[clusters], axis=1)\n",
    "\n",
    "threshold = data['Distance_to_Centroid'].quantile(0.95)\n",
    "data['Is_Outlier'] = data['Distance_to_Centroid'] > threshold\n",
    "\n",
    "data_clean = data[~data['Is_Outlier']]\n",
    "data_encoded = pd.get_dummies(data_clean, columns=['District', 'Neighbourhood'])\n",
    "\n",
    "X = data_encoded.drop('Price (euro/m2)', axis=1)\n",
    "y = data_encoded['Price (euro/m2)']\n",
    "\n",
    "# Aplicar transformación de Box-Cox a la variable objetivo\n",
    "pt = PowerTransformer(method='box-cox')\n",
    "y_transformed = pt.fit_transform(y.values.reshape(-1, 1)).flatten()\n",
    "\n",
    "X_train, X_test, y_train, y_test = train_test_split(X, y_transformed, test_size=0.2, random_state=42)\n",
    "\n",
    "scaler = MinMaxScaler()\n",
    "X_train_scaled = scaler.fit_transform(X_train)\n",
    "X_test_scaled = scaler.transform(X_test)\n",
    "\n"
   ]
  },
  {
   "cell_type": "markdown",
   "metadata": {},
   "source": [
    "2. Optimización de Hiperparámetros para Ridge"
   ]
  },
  {
   "cell_type": "code",
   "execution_count": 2,
   "metadata": {},
   "outputs": [],
   "source": [
    "# Optimización de Hiperparámetros para Ridge\n",
    "ridge_model = Ridge()\n",
    "param_grid = {\n",
    "    'alpha': [0.1, 1.0, 10.0, 100.0],\n",
    "    'fit_intercept': [True, False],\n",
    "    'solver': ['auto', 'svd', 'cholesky', 'lsqr', 'sag']\n",
    "}\n",
    "grid_search = GridSearchCV(ridge_model, param_grid, cv=5, scoring='r2')\n",
    "grid_search.fit(X_train_scaled, y_train)\n",
    "\n",
    "best_ridge_model = grid_search.best_estimator_\n"
   ]
  },
  {
   "cell_type": "markdown",
   "metadata": {},
   "source": [
    "    3. Definir y Entrenar Modelos"
   ]
  },
  {
   "cell_type": "code",
   "execution_count": 3,
   "metadata": {},
   "outputs": [
    {
     "data": {
      "text/html": [
       "<style>#sk-container-id-1 {color: black;background-color: white;}#sk-container-id-1 pre{padding: 0;}#sk-container-id-1 div.sk-toggleable {background-color: white;}#sk-container-id-1 label.sk-toggleable__label {cursor: pointer;display: block;width: 100%;margin-bottom: 0;padding: 0.3em;box-sizing: border-box;text-align: center;}#sk-container-id-1 label.sk-toggleable__label-arrow:before {content: \"▸\";float: left;margin-right: 0.25em;color: #696969;}#sk-container-id-1 label.sk-toggleable__label-arrow:hover:before {color: black;}#sk-container-id-1 div.sk-estimator:hover label.sk-toggleable__label-arrow:before {color: black;}#sk-container-id-1 div.sk-toggleable__content {max-height: 0;max-width: 0;overflow: hidden;text-align: left;background-color: #f0f8ff;}#sk-container-id-1 div.sk-toggleable__content pre {margin: 0.2em;color: black;border-radius: 0.25em;background-color: #f0f8ff;}#sk-container-id-1 input.sk-toggleable__control:checked~div.sk-toggleable__content {max-height: 200px;max-width: 100%;overflow: auto;}#sk-container-id-1 input.sk-toggleable__control:checked~label.sk-toggleable__label-arrow:before {content: \"▾\";}#sk-container-id-1 div.sk-estimator input.sk-toggleable__control:checked~label.sk-toggleable__label {background-color: #d4ebff;}#sk-container-id-1 div.sk-label input.sk-toggleable__control:checked~label.sk-toggleable__label {background-color: #d4ebff;}#sk-container-id-1 input.sk-hidden--visually {border: 0;clip: rect(1px 1px 1px 1px);clip: rect(1px, 1px, 1px, 1px);height: 1px;margin: -1px;overflow: hidden;padding: 0;position: absolute;width: 1px;}#sk-container-id-1 div.sk-estimator {font-family: monospace;background-color: #f0f8ff;border: 1px dotted black;border-radius: 0.25em;box-sizing: border-box;margin-bottom: 0.5em;}#sk-container-id-1 div.sk-estimator:hover {background-color: #d4ebff;}#sk-container-id-1 div.sk-parallel-item::after {content: \"\";width: 100%;border-bottom: 1px solid gray;flex-grow: 1;}#sk-container-id-1 div.sk-label:hover label.sk-toggleable__label {background-color: #d4ebff;}#sk-container-id-1 div.sk-serial::before {content: \"\";position: absolute;border-left: 1px solid gray;box-sizing: border-box;top: 0;bottom: 0;left: 50%;z-index: 0;}#sk-container-id-1 div.sk-serial {display: flex;flex-direction: column;align-items: center;background-color: white;padding-right: 0.2em;padding-left: 0.2em;position: relative;}#sk-container-id-1 div.sk-item {position: relative;z-index: 1;}#sk-container-id-1 div.sk-parallel {display: flex;align-items: stretch;justify-content: center;background-color: white;position: relative;}#sk-container-id-1 div.sk-item::before, #sk-container-id-1 div.sk-parallel-item::before {content: \"\";position: absolute;border-left: 1px solid gray;box-sizing: border-box;top: 0;bottom: 0;left: 50%;z-index: -1;}#sk-container-id-1 div.sk-parallel-item {display: flex;flex-direction: column;z-index: 1;position: relative;background-color: white;}#sk-container-id-1 div.sk-parallel-item:first-child::after {align-self: flex-end;width: 50%;}#sk-container-id-1 div.sk-parallel-item:last-child::after {align-self: flex-start;width: 50%;}#sk-container-id-1 div.sk-parallel-item:only-child::after {width: 0;}#sk-container-id-1 div.sk-dashed-wrapped {border: 1px dashed gray;margin: 0 0.4em 0.5em 0.4em;box-sizing: border-box;padding-bottom: 0.4em;background-color: white;}#sk-container-id-1 div.sk-label label {font-family: monospace;font-weight: bold;display: inline-block;line-height: 1.2em;}#sk-container-id-1 div.sk-label-container {text-align: center;}#sk-container-id-1 div.sk-container {/* jupyter's `normalize.less` sets `[hidden] { display: none; }` but bootstrap.min.css set `[hidden] { display: none !important; }` so we also need the `!important` here to be able to override the default hidden behavior on the sphinx rendered scikit-learn.org. See: https://github.com/scikit-learn/scikit-learn/issues/21755 */display: inline-block !important;position: relative;}#sk-container-id-1 div.sk-text-repr-fallback {display: none;}</style><div id=\"sk-container-id-1\" class=\"sk-top-container\"><div class=\"sk-text-repr-fallback\"><pre>XGBRegressor(base_score=None, booster=None, callbacks=None,\n",
       "             colsample_bylevel=None, colsample_bynode=None,\n",
       "             colsample_bytree=None, device=None, early_stopping_rounds=None,\n",
       "             enable_categorical=False, eval_metric=None, feature_types=None,\n",
       "             gamma=None, grow_policy=None, importance_type=None,\n",
       "             interaction_constraints=None, learning_rate=None, max_bin=None,\n",
       "             max_cat_threshold=None, max_cat_to_onehot=None,\n",
       "             max_delta_step=None, max_depth=None, max_leaves=None,\n",
       "             min_child_weight=None, missing=nan, monotone_constraints=None,\n",
       "             multi_strategy=None, n_estimators=None, n_jobs=None,\n",
       "             num_parallel_tree=None, random_state=None, ...)</pre><b>In a Jupyter environment, please rerun this cell to show the HTML representation or trust the notebook. <br />On GitHub, the HTML representation is unable to render, please try loading this page with nbviewer.org.</b></div><div class=\"sk-container\" hidden><div class=\"sk-item\"><div class=\"sk-estimator sk-toggleable\"><input class=\"sk-toggleable__control sk-hidden--visually\" id=\"sk-estimator-id-1\" type=\"checkbox\" checked><label for=\"sk-estimator-id-1\" class=\"sk-toggleable__label sk-toggleable__label-arrow\">XGBRegressor</label><div class=\"sk-toggleable__content\"><pre>XGBRegressor(base_score=None, booster=None, callbacks=None,\n",
       "             colsample_bylevel=None, colsample_bynode=None,\n",
       "             colsample_bytree=None, device=None, early_stopping_rounds=None,\n",
       "             enable_categorical=False, eval_metric=None, feature_types=None,\n",
       "             gamma=None, grow_policy=None, importance_type=None,\n",
       "             interaction_constraints=None, learning_rate=None, max_bin=None,\n",
       "             max_cat_threshold=None, max_cat_to_onehot=None,\n",
       "             max_delta_step=None, max_depth=None, max_leaves=None,\n",
       "             min_child_weight=None, missing=nan, monotone_constraints=None,\n",
       "             multi_strategy=None, n_estimators=None, n_jobs=None,\n",
       "             num_parallel_tree=None, random_state=None, ...)</pre></div></div></div></div></div>"
      ],
      "text/plain": [
       "XGBRegressor(base_score=None, booster=None, callbacks=None,\n",
       "             colsample_bylevel=None, colsample_bynode=None,\n",
       "             colsample_bytree=None, device=None, early_stopping_rounds=None,\n",
       "             enable_categorical=False, eval_metric=None, feature_types=None,\n",
       "             gamma=None, grow_policy=None, importance_type=None,\n",
       "             interaction_constraints=None, learning_rate=None, max_bin=None,\n",
       "             max_cat_threshold=None, max_cat_to_onehot=None,\n",
       "             max_delta_step=None, max_depth=None, max_leaves=None,\n",
       "             min_child_weight=None, missing=nan, monotone_constraints=None,\n",
       "             multi_strategy=None, n_estimators=None, n_jobs=None,\n",
       "             num_parallel_tree=None, random_state=None, ...)"
      ]
     },
     "execution_count": 3,
     "metadata": {},
     "output_type": "execute_result"
    }
   ],
   "source": [
    "# Definir y entrenar modelos\n",
    "lasso_model = Lasso()\n",
    "elasticnet_model = ElasticNet()\n",
    "rf_model = RandomForestRegressor()\n",
    "xgb_model = XGBRegressor()\n",
    "\n",
    "# Entrenar los modelos\n",
    "best_ridge_model.fit(X_train_scaled, y_train)\n",
    "lasso_model.fit(X_train_scaled, y_train)\n",
    "elasticnet_model.fit(X_train_scaled, y_train)\n",
    "rf_model.fit(X_train_scaled, y_train)\n",
    "xgb_model.fit(X_train_scaled, y_train)\n"
   ]
  },
  {
   "cell_type": "markdown",
   "metadata": {},
   "source": [
    "4. Evaluación de los Modelos"
   ]
  },
  {
   "cell_type": "code",
   "execution_count": 4,
   "metadata": {},
   "outputs": [
    {
     "name": "stdout",
     "output_type": "stream",
     "text": [
      "\n",
      "Model: Ridge\n",
      "MAE: 0.4653604136352518, MSE: 0.4354874008047089, RMSE: 0.6599146920661101, R²: 0.9165749109341838\n",
      "Cross-Validation R²: 0.9066066304658985, 0.018164272412134367\n",
      "\n",
      "Model: Lasso\n",
      "MAE: 1.8306683393229557, MSE: 5.223743848895104, RMSE: 2.285551103978011, R²: -0.0006978274131781426\n",
      "Cross-Validation R²: -0.0015905273424927646, 0.0016290731300665426\n",
      "\n",
      "Model: ElasticNet\n",
      "MAE: 1.8306683393229557, MSE: 5.223743848895104, RMSE: 2.285551103978011, R²: -0.0006978274131781426\n",
      "Cross-Validation R²: -0.0015905273424927646, 0.0016290731300665426\n",
      "\n",
      "Model: RandomForest\n",
      "MAE: 0.4267387910248906, MSE: 0.40935127387855264, RMSE: 0.6398056532092794, R²: 0.9215817348115704\n",
      "Cross-Validation R²: 0.9093062563890463, 0.0185104196138005\n",
      "\n",
      "Model: XGBoost\n",
      "MAE: 0.4096108527824385, MSE: 0.3384140183547566, RMSE: 0.5817336317892895, R²: 0.9351709841198669\n",
      "Cross-Validation R²: 0.9215240519484388, 0.014772281486153649\n"
     ]
    }
   ],
   "source": [
    "# Evaluación de los modelos\n",
    "models = {\n",
    "    'Ridge': best_ridge_model,\n",
    "    'Lasso': lasso_model,\n",
    "    'ElasticNet': elasticnet_model,\n",
    "    'RandomForest': rf_model,\n",
    "    'XGBoost': xgb_model\n",
    "}\n",
    "\n",
    "for name, model in models.items():\n",
    "    y_pred_transformed = model.predict(X_test_scaled)\n",
    "    y_pred = pt.inverse_transform(y_pred_transformed.reshape(-1, 1)).flatten()\n",
    "    y_test_exp = pt.inverse_transform(y_test.reshape(-1, 1)).flatten()\n",
    "    \n",
    "    mae = mean_absolute_error(y_test_exp, y_pred)\n",
    "    mse = mean_squared_error(y_test_exp, y_pred)\n",
    "    rmse = np.sqrt(mse)\n",
    "    r2 = r2_score(y_test_exp, y_pred)\n",
    "    cv_scores = cross_val_score(model, X_train_scaled, y_train, cv=5, scoring='r2')\n",
    "    \n",
    "    print(f'\\nModel: {name}')\n",
    "    print(f'MAE: {mae}, MSE: {mse}, RMSE: {rmse}, R²: {r2}')\n",
    "    print(f'Cross-Validation R²: {cv_scores.mean()}, {cv_scores.std()}')\n"
   ]
  },
  {
   "cell_type": "markdown",
   "metadata": {},
   "source": [
    "5. Combinación de Modelos (Ensemble Learning)"
   ]
  },
  {
   "cell_type": "code",
   "execution_count": 5,
   "metadata": {},
   "outputs": [
    {
     "name": "stdout",
     "output_type": "stream",
     "text": [
      "\n",
      "Model: Ensemble\n",
      "MAE: 0.8492066710457903, MSE: 1.1694877106425443, RMSE: 1.0814285508726613, R²: 0.7759645485921096\n",
      "Cross-Validation R²: 0.7737546223243827, 0.014317386024455694\n"
     ]
    }
   ],
   "source": [
    "# Combinación de modelos utilizando VotingRegressor\n",
    "ensemble_model = VotingRegressor(estimators=[\n",
    "    ('ridge', best_ridge_model),\n",
    "    ('lasso', lasso_model),\n",
    "    ('elasticnet', elasticnet_model),\n",
    "    ('rf', rf_model),\n",
    "    ('xgb', xgb_model)\n",
    "])\n",
    "ensemble_model.fit(X_train_scaled, y_train)\n",
    "\n",
    "# Evaluación del modelo de ensemble\n",
    "y_pred_transformed = ensemble_model.predict(X_test_scaled)\n",
    "y_pred = pt.inverse_transform(y_pred_transformed.reshape(-1, 1)).flatten()\n",
    "y_test_exp = pt.inverse_transform(y_test.reshape(-1, 1)).flatten()\n",
    "\n",
    "mae = mean_absolute_error(y_test_exp, y_pred)\n",
    "mse = mean_squared_error(y_test_exp, y_pred)\n",
    "rmse = np.sqrt(mse)\n",
    "r2 = r2_score(y_test_exp, y_pred)\n",
    "cv_scores = cross_val_score(ensemble_model, X_train_scaled, y_train, cv=5, scoring='r2')\n",
    "\n",
    "print(f'\\nModel: Ensemble')\n",
    "print(f'MAE: {mae}, MSE: {mse}, RMSE: {rmse}, R²: {r2}')\n",
    "print(f'Cross-Validation R²: {cv_scores.mean()}, {cv_scores.std()}')\n"
   ]
  },
  {
   "cell_type": "markdown",
   "metadata": {},
   "source": [
    "6. Predicción con los Nuevos Datos"
   ]
  },
  {
   "cell_type": "code",
   "execution_count": 6,
   "metadata": {},
   "outputs": [
    {
     "name": "stdout",
     "output_type": "stream",
     "text": [
      "   Year  Trimester      District        Neighbourhood  \\\n",
      "0  2044          1      Eixample  Dreta de l'Eixample   \n",
      "1  2044          2    Sant Martí          El Poblenou   \n",
      "2  2044          3        Gràcia       Vila de Gràcia   \n",
      "3  2044          4  Ciutat Vella             El Raval   \n",
      "\n",
      "   Predicted Price (euro/m2)  \n",
      "0                  10.464235  \n",
      "1                  10.605186  \n",
      "2                  10.610548  \n",
      "3                  11.028605  \n"
     ]
    }
   ],
   "source": [
    "# Cargar los nuevos datos\n",
    "new_data = pd.DataFrame({\n",
    "    'Year': [2044, 2044, 2044, 2044],\n",
    "    'Trimester': [1, 2, 3, 4],\n",
    "    'District': ['Eixample', 'Sant Martí', 'Gràcia', 'Ciutat Vella'],\n",
    "    'Neighbourhood': ['Dreta de l\\'Eixample', 'El Poblenou', 'Vila de Gràcia', 'El Raval']\n",
    "})\n",
    "\n",
    "# Preprocesamiento de los nuevos datos\n",
    "new_data_encoded = pd.get_dummies(new_data, columns=['District', 'Neighbourhood'])\n",
    "missing_cols = set(X.columns) - set(new_data_encoded.columns)\n",
    "for c in missing_cols:\n",
    "    new_data_encoded[c] = 0\n",
    "new_data_encoded = new_data_encoded[X.columns]\n",
    "new_data_scaled = scaler.transform(new_data_encoded)\n",
    "\n",
    "# Realizar la predicción con el modelo de ensemble\n",
    "predictions_transformed = ensemble_model.predict(new_data_scaled)\n",
    "predictions = pt.inverse_transform(predictions_transformed.reshape(-1, 1)).flatten()\n",
    "new_data['Predicted Price (euro/m2)'] = predictions\n",
    "\n",
    "# Mostrar las predicciones\n",
    "print(new_data[['Year', 'Trimester', 'District', 'Neighbourhood', 'Predicted Price (euro/m2)']])\n",
    "\n",
    "# Guardar las predicciones en un archivo CSV\n",
    "#new_data.to_csv('new_data_with_predictions.csv', index=False)\n"
   ]
  }
 ],
 "metadata": {
  "kernelspec": {
   "display_name": "base",
   "language": "python",
   "name": "python3"
  },
  "language_info": {
   "codemirror_mode": {
    "name": "ipython",
    "version": 3
   },
   "file_extension": ".py",
   "mimetype": "text/x-python",
   "name": "python",
   "nbconvert_exporter": "python",
   "pygments_lexer": "ipython3",
   "version": "3.11.7"
  }
 },
 "nbformat": 4,
 "nbformat_minor": 2
}
